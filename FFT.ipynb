{
  "nbformat": 4,
  "nbformat_minor": 0,
  "metadata": {
    "colab": {
      "provenance": []
    },
    "kernelspec": {
      "name": "python3",
      "display_name": "Python 3"
    },
    "language_info": {
      "name": "python"
    }
  },
  "cells": [
    {
      "cell_type": "code",
      "execution_count": null,
      "metadata": {
        "colab": {
          "base_uri": "https://localhost:8080/"
        },
        "id": "-IADkqUIQm16",
        "outputId": "0475d5f3-6360-4a6d-b1ab-fbee80bf2874"
      },
      "outputs": [
        {
          "output_type": "stream",
          "name": "stdout",
          "text": [
            "Writing fft_example.c\n"
          ]
        }
      ],
      "source": [
        "%%writefile fft_example.c\n",
        "#include <stdio.h>\n",
        "#include <math.h>\n",
        "#include <stdlib.h>\n",
        "\n",
        "#define PI 3.14159265358979323846\n",
        "// estruta de um numero complexo\n",
        "typedef struct {\n",
        "    double real;\n",
        "    double imag;\n",
        "} Complex;\n",
        "// função recursiva fft recebendo um sinal entrada  e o tamanho\n",
        "void FFT(Complex *x, int N) {\n",
        "    // fim da recursividade\n",
        "    if (N <= 1) return;\n",
        "\n",
        "    // complexos com metaadde ddo tamanho do complexo de entrada x\n",
        "    Complex *even = (Complex *) malloc(N/2 * sizeof(Complex));\n",
        "    Complex *odd = (Complex *) malloc(N/2 * sizeof(Complex));\n",
        "    // preenchendo os complexos\n",
        "    for (int i = 0; i < N / 2; i++) {\n",
        "\n",
        "        even[i] = x[i*2];\n",
        "        odd[i] = x[i*2 + 1];\n",
        "    }\n",
        "    // chamada de fft com metade do tamanho\n",
        "    FFT(even, N/2);\n",
        "    FFT(odd, N/2);\n",
        "    // Calculo de W (k e N )\n",
        "    for (int k = 0; k < N/2; k++) {\n",
        "        double angle = -2 * PI * k / N;\n",
        "        Complex t = {cos(angle), sin(angle)};\n",
        "        Complex e = even[k];\n",
        "        // multiplicação W pela parcela impar\n",
        "        Complex o = {\n",
        "            t.real * odd[k].real - t.imag * odd[k].imag,\n",
        "            t.real * odd[k].imag + t.imag * odd[k].real\n",
        "        };\n",
        "        //Soma da parcela par e W x parcela impar junto com a inversão da ordem dos bits dos índices de x(n)\n",
        "\n",
        "        x[k].real     = e.real + o.real;\n",
        "        x[k].imag     = e.imag + o.imag;\n",
        "        x[k+N/2].real = e.real - o.real;\n",
        "        x[k+N/2].imag = e.imag - o.imag;\n",
        "    }\n",
        "\n",
        "    free(even);\n",
        "    free(odd);\n",
        "}\n",
        "\n",
        "int main() {\n",
        "    int N = 8;\n",
        "    Complex x[8] = {\n",
        "        {1,0}, {0,0}, {0,0}, {0,0},\n",
        "        {0,0}, {0,0}, {0,0}, {0,0}\n",
        "    };\n",
        "\n",
        "    FFT(x, N);\n",
        "\n",
        "    printf(\"Resultado da FFT:\\n\");\n",
        "        for (int i = 0; i < N; i++) {\n",
        "            double magnitude = sqrt(x[i].real * x[i].real + x[i].imag * x[i].imag);\n",
        "            double angle_rad = atan2(x[i].imag, x[i].real);\n",
        "            double angle_deg = angle_rad * 180.0 / PI;\n",
        "            printf(\"X[%d] = %.3f + %.3fi = %.3f < %.3f°\\n\",\n",
        "                i, x[i].real, x[i].imag, magnitude, angle_deg);\n",
        "         }\n",
        "\n",
        "    return 0;\n",
        "}"
      ]
    },
    {
      "cell_type": "code",
      "source": [
        "!gcc fft_example.c -o fft_example -lm\n",
        "!./fft_example"
      ],
      "metadata": {
        "colab": {
          "base_uri": "https://localhost:8080/"
        },
        "id": "hSz4az2BRGwq",
        "outputId": "ba118760-0f60-4910-ac02-4eb253f7fc8b"
      },
      "execution_count": null,
      "outputs": [
        {
          "output_type": "stream",
          "name": "stdout",
          "text": [
            "Resultado da FFT:\n",
            "X[0] = 1.000 + 0.000i = 1.000 < 0.000°\n",
            "X[1] = 1.000 + 0.000i = 1.000 < 0.000°\n",
            "X[2] = 1.000 + 0.000i = 1.000 < 0.000°\n",
            "X[3] = 1.000 + 0.000i = 1.000 < 0.000°\n",
            "X[4] = 1.000 + 0.000i = 1.000 < 0.000°\n",
            "X[5] = 1.000 + 0.000i = 1.000 < 0.000°\n",
            "X[6] = 1.000 + 0.000i = 1.000 < 0.000°\n",
            "X[7] = 1.000 + 0.000i = 1.000 < 0.000°\n"
          ]
        }
      ]
    }
  ]
}